{
 "cells": [
  {
   "cell_type": "markdown",
   "id": "299a0a3e",
   "metadata": {},
   "source": [
    "# Bem vindo ao teste para bolsista de iniciação científica em desenvolvimento de software do Laboratório Analítico de Competências Moleculares e Epidemiológicas (ACME Labs) da Fiocruz Ceará."
   ]
  },
  {
   "cell_type": "markdown",
   "id": "f6f4a798",
   "metadata": {},
   "source": [
    "Para realizar este teste, será necessário você ler o problema e resolvê-lo através da criação de um simples e funcional algoritmo.\n",
    "\n",
    "NOTA: Todos os dados usados neste teste são fictícios, portanto, está de acordo com a Lei Geral de Proteção de Dados."
   ]
  },
  {
   "cell_type": "markdown",
   "id": "e6fbb7c9",
   "metadata": {},
   "source": [
    "## Problema"
   ]
  },
  {
   "cell_type": "markdown",
   "id": "fd25a0ab",
   "metadata": {},
   "source": [
    "Após você conseguir ingressar em um laboratório de renome da Fiocruz, você agora participa de uma pesquisa que já estava em andamento.\n",
    "\n",
    "Essa pesquisa possui um vasto banco de dados relacional desenvolvido em em PostgreSQL.\n",
    "\n",
    "Além disso, a equipe de desenvolvimento criou uma API simples, com alguns endpoints, para que os desenvolvedores e analistas possam ter acesso aos dados, sem comprometer a segurança.\n",
    "\n",
    "Essa pesquisa em questão, coletou alguns dados dos participantes, incluindo nome, email e telefone de contato. Além disso, a pesquisa possui um número de telefone para que os participantes possam enviar sms e, assim, entrar em contato.\n",
    "\n",
    "Foi solicitado a sua pessoa que disponibilizasse uma LISTA com o email dos participantes que enviaram sms para a pesquisa a partir de 1 de novembro de 2022."
   ]
  },
  {
   "cell_type": "markdown",
   "id": "2d16ac96",
   "metadata": {},
   "source": [
    "\n",
    "### Resumo do problema"
   ]
  },
  {
   "cell_type": "markdown",
   "id": "5c5bcf5f",
   "metadata": {},
   "source": [
    "* Desenvolver um algoritmo que retorne uma lista com os emails de contato dos participantes que enviaram sms a partir de 1 de novembro de 2022."
   ]
  },
  {
   "cell_type": "markdown",
   "id": "eb5024e9",
   "metadata": {},
   "source": [
    "### Informações úteis"
   ]
  },
  {
   "cell_type": "markdown",
   "id": "464f0333",
   "metadata": {},
   "source": [
    "* Nem todas as pessoas que enviaram SMS para a pesquisa são participantes. É possível, inclusive, que nenhum participante tenha enviado SMS no período informado.\n",
    "\n",
    "* Endpoint para resgatar as informações dos participantes da pesquisa: https://profound-yew-370516.ue.r.appspot.com/participantes (key = 'estoutentandosairdazonadeconforto')\n",
    "   \n",
    "* Endpoint para resgatar as informações dos participantes que enviaram SMS para a pesquisa: https://profound-yew-370516.ue.r.appspot.com/sms/recebidos (key = 'eunaotenhoideiadoquemeesperanafiocruz')\n",
    "\n",
    "* As requisições às endpoints devem utilizar o método post e incluir o parametro key com a chave em questão.\n",
    "\n",
    "* Os números de telefones dos participantes podem não estar formatados igualmente nos dois endpoints\n",
    "\n",
    "* É possível utilizar a biblioteca pandas, do python, para ler os retornos das requisições e transformá-los em dataframes. Também é possível realizar JOINs entre dataframes no pandas.\n",
    "\n"
   ]
  },
  {
   "cell_type": "markdown",
   "id": "7df1fdef",
   "metadata": {},
   "source": [
    "#### Referências"
   ]
  },
  {
   "cell_type": "markdown",
   "id": "36403057",
   "metadata": {},
   "source": [
    "* https://docs.python.org/3/tutorial/datastructures.html\n",
    "* https://requests.readthedocs.io/en/latest/\n",
    "* https://pandas.pydata.org/docs/reference/api/pandas.read_json.html\n",
    "* https://pandas.pydata.org/docs/reference/api/pandas.DataFrame.join.html\n",
    "* https://pandas.pydata.org/pandas-docs/stable/reference/api/pandas.Series.str.replace.html\n",
    "* https://pandas.pydata.org/pandas-docs/stable/reference/api/pandas.Series.str.removeprefix.html"
   ]
  },
  {
   "cell_type": "code",
   "execution_count": 2,
   "id": "382444d6",
   "metadata": {},
   "outputs": [],
   "source": [
    "import pandas as pd\n",
    "import requests"
   ]
  },
  {
   "cell_type": "markdown",
   "id": "d62fca8d",
   "metadata": {},
   "source": [
    "# Início do código"
   ]
  },
  {
   "cell_type": "code",
   "execution_count": 3,
   "id": "faa62a2d",
   "metadata": {},
   "outputs": [],
   "source": [
    "from re import search\n",
    "import json\n",
    "\n",
    "req_participantes = requests.post('https://profound-yew-370516.ue.r.appspot.com/participantes?key=estoutentandosairdazonadeconforto')\n",
    "req_sms = requests.post(' https://profound-yew-370516.ue.r.appspot.com/sms/recebidos?key=eunaotenhoideiadoquemeesperanafiocruz')\n",
    "dfp = req_participantes.json()\n",
    "dfs = req_sms.json()\n",
    "\n",
    "dfp_json = json.dumps(dfp, indent = True)\n",
    "dfs_json = json.dumps(dfs, indent = True)\n",
    "\n",
    "#Criando arquivos e inserindo os dados das requisições\n",
    "with open('participantes.json', 'w+') as file:\n",
    "    file.write(dfp_json)\n",
    "\n",
    "with open('participantes.json') as arquivo_json:\n",
    "    objeto_json = json.load(arquivo_json)\n",
    "\n",
    "with open('sms.json', 'w+') as f:\n",
    "    f.write(dfs_json)\n",
    "\n",
    "with open('sms.json') as arq_json:\n",
    "    obj_json = json.load(arq_json)\n",
    "\n",
    "parti_df = pd.json_normalize(objeto_json, record_path=['data'])\n",
    "sms_df = pd.json_normalize(obj_json, record_path=['data'])\n",
    "\n",
    "parti_df = parti_df.rename(columns={'participant_phone_number': 'phone_number'})\n",
    "\n",
    "#concatenei as tabelas para vincular os números aos usuários correspondentes\n",
    "parti_df = parti_df.merge(sms_df)\n",
    "\n",
    "def get_lista_de_emails():\n",
    "    #Procurando só por sms enviados a partir de novembro\n",
    "    for ind in parti_df.index:\n",
    "        if search('Nov', parti_df['message_date'][ind]):\n",
    "            lista_datas_nov = (parti_df['participant_name'][ind], parti_df['participant_email'][ind], parti_df['phone_number'][ind], parti_df['message_date'][ind])\n",
    "            lista_de_emails = list(lista_datas_nov)\n",
    "            print(lista_de_emails)\n",
    "    for ind in parti_df.index:\n",
    "        if search('Dec', parti_df['message_date'][ind]):\n",
    "            lista_datas_dec = (parti_df['participant_name'][ind], parti_df['participant_email'][ind], parti_df['phone_number'][ind], parti_df['message_date'][ind])\n",
    "            lista_de_emails = list(lista_datas_dec)\n",
    "            print(lista_de_emails)\n",
    "    return lista_de_emails"
   ]
  },
  {
   "cell_type": "markdown",
   "id": "1d98a50b",
   "metadata": {},
   "source": [
    "# Resposta do Teste"
   ]
  },
  {
   "cell_type": "code",
   "execution_count": 4,
   "id": "f2311783",
   "metadata": {
    "scrolled": false
   },
   "outputs": [
    {
     "name": "stdout",
     "output_type": "stream",
     "text": [
      "['Athena', 'Athena@hotmail.com', '42996317597', 'Tue, 22 Nov 2022 00:52:59 GMT']\n",
      "['JASMINE', 'JASMINE@gmail.com', '85995321512', 'Mon, 14 Nov 2022 08:25:14 GMT']\n",
      "['Rebecca', 'Rebecca@hotmail.com', '33994554695', 'Thu, 03 Nov 2022 06:43:23 GMT']\n",
      "['Emilia', 'Emilia@hotmail.com', '79993535576', 'Tue, 15 Nov 2022 14:25:11 GMT']\n",
      "['KAILEY', 'KAILEY@ig.com.br', '34998032273', 'Wed, 16 Nov 2022 12:20:38 GMT']\n",
      "['Caroline', 'Caroline@yahoo.com.br', '93990436998', 'Fri, 09 Dec 2022 12:01:56 GMT']\n",
      "['Mya', 'Mya@hotmail.com', '98995633894', 'Thu, 01 Dec 2022 13:23:23 GMT']\n",
      "True\n",
      "['Athena', 'Athena@hotmail.com', '42996317597', 'Tue, 22 Nov 2022 00:52:59 GMT']\n",
      "['JASMINE', 'JASMINE@gmail.com', '85995321512', 'Mon, 14 Nov 2022 08:25:14 GMT']\n",
      "['Rebecca', 'Rebecca@hotmail.com', '33994554695', 'Thu, 03 Nov 2022 06:43:23 GMT']\n",
      "['Emilia', 'Emilia@hotmail.com', '79993535576', 'Tue, 15 Nov 2022 14:25:11 GMT']\n",
      "['KAILEY', 'KAILEY@ig.com.br', '34998032273', 'Wed, 16 Nov 2022 12:20:38 GMT']\n",
      "['Caroline', 'Caroline@yahoo.com.br', '93990436998', 'Fri, 09 Dec 2022 12:01:56 GMT']\n",
      "['Mya', 'Mya@hotmail.com', '98995633894', 'Thu, 01 Dec 2022 13:23:23 GMT']\n",
      "['Mya', 'Mya@hotmail.com', '98995633894', 'Thu, 01 Dec 2022 13:23:23 GMT']\n"
     ]
    }
   ],
   "source": [
    "print(type(get_lista_de_emails()) == list)\n",
    "print(get_lista_de_emails())"
   ]
  },
  {
   "cell_type": "code",
   "execution_count": null,
   "id": "548e6bce",
   "metadata": {},
   "outputs": [],
   "source": []
  }
 ],
 "metadata": {
  "kernelspec": {
   "display_name": "Python 3 (ipykernel)",
   "language": "python",
   "name": "python3"
  },
  "language_info": {
   "codemirror_mode": {
    "name": "ipython",
    "version": 3
   },
   "file_extension": ".py",
   "mimetype": "text/x-python",
   "name": "python",
   "nbconvert_exporter": "python",
   "pygments_lexer": "ipython3",
   "version": "3.9.13"
  }
 },
 "nbformat": 4,
 "nbformat_minor": 5
}
